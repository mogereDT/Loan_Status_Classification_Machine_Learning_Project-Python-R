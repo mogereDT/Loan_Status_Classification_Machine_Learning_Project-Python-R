{
 "cells": [
  {
   "cell_type": "markdown",
   "id": "2e39a29b-a356-4f6d-bde7-b8bbd62aaeac",
   "metadata": {},
   "source": [
    "__Machine Learning__\n",
    "\n",
    "This section details the differnet models I tried out to classify the credit as Fully Paid or Charged Off.\n"
   ]
  },
  {
   "cell_type": "code",
   "execution_count": 31,
   "id": "427f9485-cb8b-44aa-9356-d8653fd6a874",
   "metadata": {},
   "outputs": [],
   "source": [
    "import pandas as pd\n",
    "import numpy as np\n",
    "from sklearn.model_selection import train_test_split, GridSearchCV\n",
    "from sklearn.preprocessing import OneHotEncoder, StandardScaler\n",
    "from sklearn.impute import SimpleImputer\n",
    "from sklearn.pipeline import Pipeline\n",
    "from sklearn.compose import ColumnTransformer\n",
    "from sklearn.ensemble import RandomForestClassifier\n",
    "from sklearn.metrics import classification_report, roc_auc_score, roc_curve, confusion_matrix\n",
    "import matplotlib.pyplot as plt"
   ]
  },
  {
   "cell_type": "code",
   "execution_count": 33,
   "id": "75fc4151-ca64-499e-84b0-bfaeea193ef9",
   "metadata": {},
   "outputs": [],
   "source": [
    "# Set display options to avoid line breaks\n",
    "pd.set_option('display.max_columns', None)  # Display all columns\n",
    "pd.set_option('display.width', 1000)  # Set the display width to avoid line breaks\n",
    "pd.set_option('display.float_format', '{:.0f}'.format)#silence scientific displays"
   ]
  },
  {
   "cell_type": "code",
   "execution_count": 99,
   "id": "50a77eed-dc58-41ec-8dcb-5ca5b09193a3",
   "metadata": {},
   "outputs": [],
   "source": [
    "#Load the Clean Data\n",
    "import os\n",
    "# Change the working directory to where the data file is located\n",
    "os.chdir('C:/Users/moger/Downloads/Loan_Prediction_ML')\n",
    "\n",
    "# Specify the absolute path to the data file\n",
    "file_path = 'C:/Users/moger/Downloads/Loan_Prediction_ML/Clean_Data/credit_train_final_clean_v1.csv'\n",
    "\n",
    "# Load the raw data\n",
    "credit_train = pd.read_csv(file_path)"
   ]
  },
  {
   "cell_type": "code",
   "execution_count": 101,
   "id": "58dc0f20-ea1e-4472-9676-1667e97912c6",
   "metadata": {},
   "outputs": [],
   "source": [
    "#drop unnecessary columns\n",
    "credit_train.drop(['Loan ID', 'Customer ID'], axis=1, inplace=True)\n"
   ]
  },
  {
   "cell_type": "code",
   "execution_count": 111,
   "id": "daae695e-47fc-4234-a44f-8326670b5b24",
   "metadata": {},
   "outputs": [],
   "source": [
    "#Create a new calculated field loan to income ratio\n",
    "credit_train['Loan_to_Income_Ratio'] = credit_train['Current Loan Amount'] / credit_train['Annual Income']"
   ]
  },
  {
   "cell_type": "code",
   "execution_count": 113,
   "id": "58eca955-23d4-4188-86ad-3eb9d3498b77",
   "metadata": {},
   "outputs": [],
   "source": [
    "#Convert the loan status variable to a dummy\n",
    "credit_train['Loan Status'] = credit_train['Loan Status'].map({'Charged Off': 0, 'Fully Paid': 1})"
   ]
  },
  {
   "cell_type": "code",
   "execution_count": 55,
   "id": "80c4c898-646a-4587-988d-017945008539",
   "metadata": {},
   "outputs": [
    {
     "name": "stdout",
     "output_type": "stream",
     "text": [
      "   Loan Status  Current Loan Amount        Term  Credit Score  Annual Income Home Ownership             Purpose  Monthly Debt  Years of Credit History  Months since last delinquent  Number of Open Accounts  Number of Credit Problems  Current Credit Balance  Maximum Open Credit  Tax Liens\n",
      "0   Fully Paid               217646  Short Term           730        1184194  Home Mortgage  Debt Consolidation         10855                       20                            10                       13                          1                  122170               272052          0\n",
      "1   Fully Paid               548746  Short Term           678        2559110           Rent  Debt Consolidation         18660                       23                            33                        4                          0                  437171               555038          0\n",
      "2   Fully Paid               234124  Short Term           727         693234           Rent  Debt Consolidation         14211                       25                            46                       10                          1                   28291               107052          0\n",
      "3   Fully Paid               666204   Long Term           723        1821967  Home Mortgage  Debt Consolidation         17612                       22                            34                       15                          0                  813694              2004618          0\n",
      "4  Charged Off               317108   Long Term           687        1133274           Rent  Debt Consolidation          9633                       17                            53                        4                          0                   60287               126940          0\n",
      "5   Fully Paid               465410   Long Term           688        1722654           Rent           Buy House         15647                       22                            30                        7                          0                  107559               488356          0\n",
      "6   Fully Paid               449108  Short Term           718        1454507  Home Mortgage  Debt Consolidation         13090                       29                            21                       14                          0                  193990               458414          0\n",
      "7  Charged Off               688468   Long Term           682        1494616           Rent  Debt Consolidation         14697                       17                            50                        8                          0                  343995               843854          0\n",
      "8   Fully Paid               311762   Long Term           680        2211657  Home Mortgage  Debt Consolidation         44602                       14                            15                       11                          0                  213921               509652          0\n",
      "9   Fully Paid               129712  Short Term           723        1465698       Own Home  Debt Consolidation         18199                       19                             6                       34                          1                   45106               163218          0\n"
     ]
    }
   ],
   "source": [
    "print(credit_train.head(10))"
   ]
  },
  {
   "cell_type": "code",
   "execution_count": 115,
   "id": "4f08ce8f-c416-4071-b09e-7bca9c9c023a",
   "metadata": {},
   "outputs": [],
   "source": [
    "# Define features and target\n",
    "X = credit_train.drop('Loan Status', axis=1)\n",
    "y = credit_train['Loan Status']\n",
    "\n",
    "# Split the data into training and testing sets\n",
    "X_train, X_test, y_train, y_test = train_test_split(X, y, test_size=0.2, random_state=87)"
   ]
  },
  {
   "cell_type": "code",
   "execution_count": 117,
   "id": "62c252ea-1e01-4b21-af46-0b6e125c8444",
   "metadata": {},
   "outputs": [],
   "source": [
    "#Encode categorical variables\n",
    "X_train = pd.get_dummies(X_train)\n",
    "X_test = pd.get_dummies(X_test)\n",
    "\n",
    "# Align the train and test data to ensure they have the same columns after encoding\n",
    "X_train, X_test = X_train.align(X_test, join='left', axis=1, fill_value=0)"
   ]
  },
  {
   "cell_type": "code",
   "execution_count": 119,
   "id": "40b13406-97f8-46d9-bb7c-72d16877d32a",
   "metadata": {},
   "outputs": [
    {
     "name": "stdout",
     "output_type": "stream",
     "text": [
      "Random Forest Classification Report:\n",
      "              precision    recall  f1-score   support\n",
      "\n",
      "           0       0.52      0.09      0.15      4556\n",
      "           1       0.76      0.97      0.85     13401\n",
      "\n",
      "    accuracy                           0.75     17957\n",
      "   macro avg       0.64      0.53      0.50     17957\n",
      "weighted avg       0.70      0.75      0.67     17957\n",
      "\n",
      "Random Forest Accuracy: 0.748287575875703\n",
      "Random Forest Confusion Matrix:\n",
      " [[  410  4146]\n",
      " [  374 13027]]\n"
     ]
    }
   ],
   "source": [
    "from sklearn.ensemble import RandomForestClassifier\n",
    "from sklearn.metrics import classification_report, accuracy_score, confusion_matrix\n",
    "\n",
    "# Initialize and train the Random Forest model\n",
    "rf_model = RandomForestClassifier(n_estimators=100, random_state=87)\n",
    "rf_model.fit(X_train, y_train)\n",
    "\n",
    "# Make predictions\n",
    "rf_predictions = rf_model.predict(X_test)\n",
    "\n",
    "# Evaluate the model\n",
    "print(\"Random Forest Classification Report:\")\n",
    "print(classification_report(y_test, rf_predictions))\n",
    "print(\"Random Forest Accuracy:\", accuracy_score(y_test, rf_predictions))\n",
    "print(\"Random Forest Confusion Matrix:\\n\", confusion_matrix(y_test, rf_predictions))"
   ]
  },
  {
   "cell_type": "code",
   "execution_count": 123,
   "id": "5b8e32d5-6ff0-4c3a-80bf-8648469038e4",
   "metadata": {},
   "outputs": [
    {
     "name": "stdout",
     "output_type": "stream",
     "text": [
      "Logistic Regression Classification Report:\n",
      "              precision    recall  f1-score   support\n",
      "\n",
      "           0       0.72      0.01      0.01      4556\n",
      "           1       0.75      1.00      0.86     13401\n",
      "\n",
      "    accuracy                           0.75     17957\n",
      "   macro avg       0.73      0.50      0.43     17957\n",
      "weighted avg       0.74      0.75      0.64     17957\n",
      "\n",
      "Logistic Regression Accuracy: 0.7471738040875424\n",
      "Logistic Regression Confusion Matrix:\n",
      " [[   26  4530]\n",
      " [   10 13391]]\n"
     ]
    }
   ],
   "source": [
    "#Train a logistic regression model\n",
    "from sklearn.linear_model import LogisticRegression\n",
    "from sklearn.metrics import classification_report, accuracy_score, confusion_matrix\n",
    "\n",
    "# Assuming X_train, X_test, y_train, y_test are already defined and preprocessed\n",
    "\n",
    "# Initialize and train the Logistic Regression model\n",
    "lr_model = LogisticRegression(random_state=87)\n",
    "lr_model.fit(X_train, y_train)\n",
    "\n",
    "# Make predictions\n",
    "lr_predictions = lr_model.predict(X_test)\n",
    "\n",
    "# Evaluate the model\n",
    "print(\"Logistic Regression Classification Report:\")\n",
    "print(classification_report(y_test, lr_predictions))\n",
    "print(\"Logistic Regression Accuracy:\", accuracy_score(y_test, lr_predictions))\n",
    "print(\"Logistic Regression Confusion Matrix:\\n\", confusion_matrix(y_test, lr_predictions))"
   ]
  },
  {
   "cell_type": "code",
   "execution_count": 125,
   "id": "82a395d1-34ae-4f74-a342-26e324d50fe5",
   "metadata": {},
   "outputs": [
    {
     "name": "stdout",
     "output_type": "stream",
     "text": [
      "Best Parameters: {'C': 0.1, 'solver': 'liblinear'}\n",
      "Best Cross-Validation Score: 0.7482179706609938\n"
     ]
    }
   ],
   "source": [
    "from sklearn.model_selection import GridSearchCV\n",
    "from sklearn.linear_model import LogisticRegression\n",
    "\n",
    "# Define the model\n",
    "lr_model = LogisticRegression(random_state=87)\n",
    "\n",
    "# Define the hyperparameters and their values\n",
    "param_grid = {\n",
    "    'C': [0.1, 1, 10, 100],  # Regularization parameter\n",
    "    'solver': ['liblinear', 'lbfgs']  # Different solvers\n",
    "}\n",
    "\n",
    "# Initialize GridSearchCV\n",
    "grid_search = GridSearchCV(estimator=lr_model, param_grid=param_grid, cv=5, scoring='accuracy')\n",
    "# Fit the model\n",
    "grid_search.fit(X_train, y_train)\n",
    "\n",
    "# Get the best parameters and best score\n",
    "best_params = grid_search.best_params_\n",
    "best_score = grid_search.best_score_\n",
    "\n",
    "print(\"Best Parameters:\", best_params)\n",
    "print(\"Best Cross-Validation Score:\", best_score)"
   ]
  },
  {
   "cell_type": "code",
   "execution_count": 120,
   "id": "db1999ca-28c7-475b-9fc3-8e10f45f60e6",
   "metadata": {},
   "outputs": [
    {
     "name": "stdout",
     "output_type": "stream",
     "text": [
      "Requirement already satisfied: xgboost in c:\\users\\moger\\downloads\\conda\\lib\\site-packages (2.1.0)\n",
      "Requirement already satisfied: numpy in c:\\users\\moger\\downloads\\conda\\lib\\site-packages (from xgboost) (1.26.4)\n",
      "Requirement already satisfied: scipy in c:\\users\\moger\\downloads\\conda\\lib\\site-packages (from xgboost) (1.11.4)\n"
     ]
    },
    {
     "name": "stderr",
     "output_type": "stream",
     "text": [
      "C:\\Users\\moger\\Downloads\\conda\\Lib\\site-packages\\xgboost\\core.py:158: UserWarning: [23:19:41] WARNING: C:\\buildkite-agent\\builds\\buildkite-windows-cpu-autoscaling-group-i-06abd128ca6c1688d-1\\xgboost\\xgboost-ci-windows\\src\\learner.cc:740: \n",
      "Parameters: { \"use_label_encoder\" } are not used.\n",
      "\n",
      "  warnings.warn(smsg, UserWarning)\n"
     ]
    },
    {
     "name": "stdout",
     "output_type": "stream",
     "text": [
      "XGBoost Classification Report:\n",
      "              precision    recall  f1-score   support\n",
      "\n",
      "           0       0.47      0.13      0.20      4556\n",
      "           1       0.76      0.95      0.85     13401\n",
      "\n",
      "    accuracy                           0.74     17957\n",
      "   macro avg       0.62      0.54      0.52     17957\n",
      "weighted avg       0.69      0.74      0.68     17957\n",
      "\n",
      "XGBoost Accuracy: 0.7421061424514117\n",
      "XGBoost Confusion Matrix:\n",
      " [[  585  3971]\n",
      " [  660 12741]]\n"
     ]
    }
   ],
   "source": [
    "#Try XG Boost model to compare\n",
    "import xgboost as xgb\n",
    "\n",
    "# Initialize and train the XGBoost model\n",
    "xgb_model = xgb.XGBClassifier(use_label_encoder=False, eval_metric='logloss', random_state=49)\n",
    "xgb_model.fit(X_train, y_train)\n",
    "\n",
    "# Make predictions\n",
    "xgb_predictions = xgb_model.predict(X_test)\n",
    "\n",
    "# Evaluate the model\n",
    "print(\"XGBoost Classification Report:\")\n",
    "print(classification_report(y_test, xgb_predictions))\n",
    "print(\"XGBoost Accuracy:\", accuracy_score(y_test, xgb_predictions))\n",
    "print(\"XGBoost Confusion Matrix:\\n\", confusion_matrix(y_test, xgb_predictions))"
   ]
  },
  {
   "cell_type": "code",
   "execution_count": 127,
   "id": "f1892b9e-9ccf-4cf4-81a7-52a9eac8fe3a",
   "metadata": {},
   "outputs": [
    {
     "name": "stdout",
     "output_type": "stream",
     "text": [
      "SVM Classification Report:\n",
      "              precision    recall  f1-score   support\n",
      "\n",
      "           0       0.00      0.00      0.00      4556\n",
      "           1       0.75      1.00      0.85     13401\n",
      "\n",
      "    accuracy                           0.75     17957\n",
      "   macro avg       0.37      0.50      0.43     17957\n",
      "weighted avg       0.56      0.75      0.64     17957\n",
      "\n",
      "SVM Accuracy: 0.746282786657014\n",
      "SVM Confusion Matrix:\n",
      " [[    0  4556]\n",
      " [    0 13401]]\n"
     ]
    },
    {
     "name": "stderr",
     "output_type": "stream",
     "text": [
      "C:\\Users\\moger\\Downloads\\conda\\Lib\\site-packages\\sklearn\\metrics\\_classification.py:1344: UndefinedMetricWarning: Precision and F-score are ill-defined and being set to 0.0 in labels with no predicted samples. Use `zero_division` parameter to control this behavior.\n",
      "  _warn_prf(average, modifier, msg_start, len(result))\n",
      "C:\\Users\\moger\\Downloads\\conda\\Lib\\site-packages\\sklearn\\metrics\\_classification.py:1344: UndefinedMetricWarning: Precision and F-score are ill-defined and being set to 0.0 in labels with no predicted samples. Use `zero_division` parameter to control this behavior.\n",
      "  _warn_prf(average, modifier, msg_start, len(result))\n",
      "C:\\Users\\moger\\Downloads\\conda\\Lib\\site-packages\\sklearn\\metrics\\_classification.py:1344: UndefinedMetricWarning: Precision and F-score are ill-defined and being set to 0.0 in labels with no predicted samples. Use `zero_division` parameter to control this behavior.\n",
      "  _warn_prf(average, modifier, msg_start, len(result))\n"
     ]
    }
   ],
   "source": [
    "from sklearn.svm import SVC\n",
    "from sklearn.metrics import classification_report, accuracy_score, confusion_matrix\n",
    "from sklearn.preprocessing import StandardScaler\n",
    "\n",
    "# Scale features\n",
    "scaler = StandardScaler()\n",
    "X_train_scaled = scaler.fit_transform(X_train)\n",
    "X_test_scaled = scaler.transform(X_test)\n",
    "\n",
    "# Initialize and train the SVM model\n",
    "svm_model = SVC(kernel='linear', random_state=92)\n",
    "svm_model.fit(X_train_scaled, y_train)\n",
    "\n",
    "# Make predictions\n",
    "svm_predictions = svm_model.predict(X_test_scaled)\n",
    "\n",
    "# Evaluate the model\n",
    "print(\"SVM Classification Report:\")\n",
    "print(classification_report(y_test, svm_predictions))\n",
    "print(\"SVM Accuracy:\", accuracy_score(y_test, svm_predictions))\n",
    "print(\"SVM Confusion Matrix:\\n\", confusion_matrix(y_test, svm_predictions))\n"
   ]
  },
  {
   "cell_type": "code",
   "execution_count": 128,
   "id": "9575a88d-2a72-43f8-8aae-044871c3d72c",
   "metadata": {},
   "outputs": [
    {
     "name": "stdout",
     "output_type": "stream",
     "text": [
      "Gradient Boosting Classification Report:\n",
      "              precision    recall  f1-score   support\n",
      "\n",
      "           0       0.56      0.05      0.09      4556\n",
      "           1       0.75      0.99      0.85     13401\n",
      "\n",
      "    accuracy                           0.75     17957\n",
      "   macro avg       0.66      0.52      0.47     17957\n",
      "weighted avg       0.70      0.75      0.66     17957\n",
      "\n",
      "Gradient Boosting Accuracy: 0.7490672161274154\n",
      "Gradient Boosting Confusion Matrix:\n",
      " [[  236  4320]\n",
      " [  186 13215]]\n"
     ]
    }
   ],
   "source": [
    "from sklearn.ensemble import GradientBoostingClassifier\n",
    "\n",
    "# Initialize and train the Gradient Boosting model\n",
    "gb_model = GradientBoostingClassifier(n_estimators=100, random_state=87)\n",
    "gb_model.fit(X_train, y_train)\n",
    "\n",
    "# Make predictions\n",
    "gb_predictions = gb_model.predict(X_test)\n",
    "\n",
    "# Evaluate the model\n",
    "print(\"Gradient Boosting Classification Report:\")\n",
    "print(classification_report(y_test, gb_predictions))\n",
    "print(\"Gradient Boosting Accuracy:\", accuracy_score(y_test, gb_predictions))\n",
    "print(\"Gradient Boosting Confusion Matrix:\\n\", confusion_matrix(y_test, gb_predictions))"
   ]
  },
  {
   "cell_type": "code",
   "execution_count": 131,
   "id": "c03d3ae8-d28e-4768-8ece-5b58c4020d50",
   "metadata": {},
   "outputs": [
    {
     "name": "stdout",
     "output_type": "stream",
     "text": [
      "Neural Network Classification Report:\n",
      "              precision    recall  f1-score   support\n",
      "\n",
      "           0       0.41      0.11      0.17      4556\n",
      "           1       0.76      0.95      0.84     13401\n",
      "\n",
      "    accuracy                           0.73     17957\n",
      "   macro avg       0.58      0.53      0.51     17957\n",
      "weighted avg       0.67      0.73      0.67     17957\n",
      "\n",
      "Neural Network Accuracy: 0.7345324942919196\n",
      "Neural Network Confusion Matrix:\n",
      " [[  491  4065]\n",
      " [  702 12699]]\n"
     ]
    }
   ],
   "source": [
    "from sklearn.neural_network import MLPClassifier\n",
    "\n",
    "# Initialize and train the Neural Network model\n",
    "nn_model = MLPClassifier(hidden_layer_sizes=(100,), max_iter=300, random_state=87)\n",
    "nn_model.fit(X_train_scaled, y_train)\n",
    "\n",
    "# Make predictions\n",
    "nn_predictions = nn_model.predict(X_test_scaled)\n",
    "\n",
    "# Evaluate the model\n",
    "print(\"Neural Network Classification Report:\")\n",
    "print(classification_report(y_test, nn_predictions))\n",
    "print(\"Neural Network Accuracy:\", accuracy_score(y_test, nn_predictions))\n",
    "print(\"Neural Network Confusion Matrix:\\n\", confusion_matrix(y_test, nn_predictions))"
   ]
  },
  {
   "cell_type": "code",
   "execution_count": 134,
   "id": "ab8939e7-d3aa-4985-9b23-cb5ec230d248",
   "metadata": {},
   "outputs": [
    {
     "name": "stdout",
     "output_type": "stream",
     "text": [
      "Naive Bayes Classification Report:\n",
      "              precision    recall  f1-score   support\n",
      "\n",
      "           0       0.24      0.03      0.06      4556\n",
      "           1       0.75      0.97      0.84     13401\n",
      "\n",
      "    accuracy                           0.73     17957\n",
      "   macro avg       0.49      0.50      0.45     17957\n",
      "weighted avg       0.62      0.73      0.64     17957\n",
      "\n",
      "Naive Bayes Accuracy: 0.7287408809934844\n",
      "Naive Bayes Confusion Matrix:\n",
      " [[  144  4412]\n",
      " [  459 12942]]\n",
      "KNN Classification Report:\n",
      "              precision    recall  f1-score   support\n",
      "\n",
      "           0       0.33      0.17      0.22      4556\n",
      "           1       0.76      0.88      0.81     13401\n",
      "\n",
      "    accuracy                           0.70     17957\n",
      "   macro avg       0.54      0.52      0.52     17957\n",
      "weighted avg       0.65      0.70      0.66     17957\n",
      "\n",
      "KNN Accuracy: 0.7008965862894693\n",
      "KNN Confusion Matrix:\n",
      " [[  760  3796]\n",
      " [ 1575 11826]]\n"
     ]
    }
   ],
   "source": [
    "from sklearn.naive_bayes import GaussianNB\n",
    "from sklearn.neighbors import KNeighborsClassifier\n",
    "from sklearn.preprocessing import LabelEncoder\n",
    "from sklearn.metrics import classification_report, accuracy_score, confusion_matrix\n",
    "\n",
    "label_encoder = LabelEncoder()\n",
    "y_train_encoded = label_encoder.fit_transform(y_train)\n",
    "y_test_encoded = label_encoder.transform(y_test)\n",
    "# Naive Bayes\n",
    "nb_model = GaussianNB()\n",
    "nb_model.fit(X_train, y_train_encoded)\n",
    "nb_predictions = nb_model.predict(X_test)\n",
    "print(\"Naive Bayes Classification Report:\")\n",
    "print(classification_report(y_test_encoded, nb_predictions))\n",
    "print(\"Naive Bayes Accuracy:\", accuracy_score(y_test_encoded, nb_predictions))\n",
    "print(\"Naive Bayes Confusion Matrix:\\n\", confusion_matrix(y_test_encoded, nb_predictions))\n",
    "\n",
    "# K-Nearest Neighbors\n",
    "knn_model = KNeighborsClassifier(n_neighbors=5)\n",
    "knn_model.fit(X_train, y_train_encoded)\n",
    "knn_predictions = knn_model.predict(X_test)\n",
    "print(\"KNN Classification Report:\")\n",
    "print(classification_report(y_test_encoded, knn_predictions))\n",
    "print(\"KNN Accuracy:\", accuracy_score(y_test_encoded, knn_predictions))\n",
    "print(\"KNN Confusion Matrix:\\n\", confusion_matrix(y_test_encoded, knn_predictions))\n"
   ]
  },
  {
   "cell_type": "markdown",
   "id": "589c5711-0faf-4cdf-a3a0-1a9959ba7d35",
   "metadata": {},
   "source": [
    "I will need to chose between Random Forest model and Logistic regression model as they tend to tie in accuracy and precision, with the logistic regression model having a better precsion for correctly classifying charged off laons (72%) versus random forest's 52%. \n",
    "\n",
    "Also I will compare the models with the test data."
   ]
  }
 ],
 "metadata": {
  "kernelspec": {
   "display_name": "Python 3 (ipykernel)",
   "language": "python",
   "name": "python3"
  },
  "language_info": {
   "codemirror_mode": {
    "name": "ipython",
    "version": 3
   },
   "file_extension": ".py",
   "mimetype": "text/x-python",
   "name": "python",
   "nbconvert_exporter": "python",
   "pygments_lexer": "ipython3",
   "version": "3.11.7"
  }
 },
 "nbformat": 4,
 "nbformat_minor": 5
}
